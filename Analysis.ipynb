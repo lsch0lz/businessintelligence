{
 "cells": [
  {
   "cell_type": "code",
   "execution_count": 23,
   "id": "7669a0b0",
   "metadata": {},
   "outputs": [
    {
     "name": "stdout",
     "output_type": "stream",
     "text": [
      "Requirement already satisfied: statsmodels in /Users/lukasscholz/opt/anaconda3/lib/python3.8/site-packages (0.12.2)\n",
      "Requirement already satisfied: numpy>=1.15 in /Users/lukasscholz/opt/anaconda3/lib/python3.8/site-packages (from statsmodels) (1.20.3)\n",
      "Requirement already satisfied: pandas>=0.21 in /Users/lukasscholz/opt/anaconda3/lib/python3.8/site-packages (from statsmodels) (1.4.1)\n",
      "Requirement already satisfied: patsy>=0.5 in /Users/lukasscholz/opt/anaconda3/lib/python3.8/site-packages (from statsmodels) (0.5.2)\n",
      "Requirement already satisfied: scipy>=1.1 in /Users/lukasscholz/opt/anaconda3/lib/python3.8/site-packages (from statsmodels) (1.7.3)\n",
      "Requirement already satisfied: python-dateutil>=2.8.1 in /Users/lukasscholz/opt/anaconda3/lib/python3.8/site-packages (from pandas>=0.21->statsmodels) (2.8.2)\n",
      "Requirement already satisfied: pytz>=2020.1 in /Users/lukasscholz/opt/anaconda3/lib/python3.8/site-packages (from pandas>=0.21->statsmodels) (2021.3)\n",
      "Requirement already satisfied: six in /Users/lukasscholz/opt/anaconda3/lib/python3.8/site-packages (from patsy>=0.5->statsmodels) (1.16.0)\n"
     ]
    }
   ],
   "source": [
    "!pip install statsmodels"
   ]
  },
  {
   "cell_type": "code",
   "execution_count": 1,
   "id": "8423321d",
   "metadata": {},
   "outputs": [
    {
     "name": "stderr",
     "output_type": "stream",
     "text": [
      "/Users/lukasscholz/opt/anaconda3/lib/python3.8/site-packages/statsmodels/tsa/base/tsa_model.py:7: FutureWarning: pandas.Int64Index is deprecated and will be removed from pandas in a future version. Use pandas.Index with the appropriate dtype instead.\n",
      "  from pandas import (to_datetime, Int64Index, DatetimeIndex, Period,\n",
      "/Users/lukasscholz/opt/anaconda3/lib/python3.8/site-packages/statsmodels/tsa/base/tsa_model.py:7: FutureWarning: pandas.Float64Index is deprecated and will be removed from pandas in a future version. Use pandas.Index with the appropriate dtype instead.\n",
      "  from pandas import (to_datetime, Int64Index, DatetimeIndex, Period,\n"
     ]
    }
   ],
   "source": [
    "import pandas as pd\n",
    "import numpy as np\n",
    "import matplotlib.pyplot as plt\n",
    "import seaborn as sns\n",
    "from sklearn.linear_model import LinearRegression\n",
    "import statsmodels.api as sm"
   ]
  },
  {
   "cell_type": "code",
   "execution_count": 2,
   "id": "a0313985",
   "metadata": {},
   "outputs": [],
   "source": [
    "df = pd.read_csv('./csv/apple_x_socio.csv')"
   ]
  },
  {
   "cell_type": "code",
   "execution_count": 3,
   "id": "823abc2a",
   "metadata": {},
   "outputs": [
    {
     "name": "stdout",
     "output_type": "stream",
     "text": [
      "<class 'pandas.core.frame.DataFrame'>\n",
      "RangeIndex: 322 entries, 0 to 321\n",
      "Data columns (total 41 columns):\n",
      " #   Column                                         Non-Null Count  Dtype  \n",
      "---  ------                                         --------------  -----  \n",
      " 0   Unnamed: 0                                     322 non-null    int64  \n",
      " 1   model                                          322 non-null    object \n",
      " 2   country_code                                   322 non-null    object \n",
      " 3   country                                        322 non-null    object \n",
      " 4   region                                         322 non-null    object \n",
      " 5   income group                                   322 non-null    object \n",
      " 6   scraped_date                                   322 non-null    object \n",
      " 7   model_en                                       322 non-null    object \n",
      " 8   price_local_currency                           322 non-null    float64\n",
      " 9   Currency CodeA                                 322 non-null    object \n",
      " 10  X                                              322 non-null    float64\n",
      " 11  USD_Normalized                                 322 non-null    float64\n",
      " 12  USD_Normalized_MEAN                            322 non-null    float64\n",
      " 13  Land                                           322 non-null    object \n",
      " 14  HDI                                            322 non-null    float64\n",
      " 15  Life expactancy at birth in years              322 non-null    float64\n",
      " 16  Mean years of schooling in years               322 non-null    float64\n",
      " 17  Gross national income (GNI) per capita in US$  322 non-null    float64\n",
      " 18  IHDI                                           322 non-null    float64\n",
      " 19  Inequality in life expectancy in%              322 non-null    float64\n",
      " 20  Inequality in education in %                   322 non-null    float64\n",
      " 21  Inequality in income in %                      322 non-null    float64\n",
      " 22  Income Shares of top 1%                        322 non-null    float64\n",
      " 23  Income Shares of top 1%.1                      294 non-null    float64\n",
      " 24  GINI                                           322 non-null    float64\n",
      " 25  Gender Inequality Index                        322 non-null    float64\n",
      " 26  Maternal mortality ratio per 100.000           322 non-null    int64  \n",
      " 27  Share of female seats in parliament in %       322 non-null    float64\n",
      " 28  Employment to population ratio                 322 non-null    float64\n",
      " 29  Employment in agriculture in %                 322 non-null    float64\n",
      " 30  Employment in services in %                    322 non-null    float64\n",
      " 31  Unemployment in %                              322 non-null    float64\n",
      " 32  Child labour in %                              28 non-null     float64\n",
      " 33  Working poor at PPP$3.20 a day in %            70 non-null     float64\n",
      " 34  High-skill to low-skill ratio                  322 non-null    float64\n",
      " 35  Prison population per 100.000                  322 non-null    float64\n",
      " 36  Homocide rate per 100.000                      322 non-null    float64\n",
      " 37  Suicide rate (female) per 100.000              322 non-null    float64\n",
      " 38  Suicide rate (male) per 100.000                322 non-null    float64\n",
      " 39  Internet User in %                             322 non-null    float64\n",
      " 40  Mobile phone subscriptions per 100 people      322 non-null    float64\n",
      "dtypes: float64(30), int64(2), object(9)\n",
      "memory usage: 103.3+ KB\n"
     ]
    }
   ],
   "source": [
    "df.info()"
   ]
  },
  {
   "cell_type": "code",
   "execution_count": 127,
   "id": "a0885d7c",
   "metadata": {},
   "outputs": [],
   "source": [
    "y = df[\"Prison population per 100.000\"]\n",
    "x = df[\"USD_Normalized_MEAN\"]"
   ]
  },
  {
   "cell_type": "code",
   "execution_count": 128,
   "id": "8f6dd028",
   "metadata": {},
   "outputs": [],
   "source": [
    "# x = sm.add_constant(x1)\n",
    "lm = sm.OLS(y,x).fit()"
   ]
  },
  {
   "cell_type": "code",
   "execution_count": 129,
   "id": "f2ecf626",
   "metadata": {},
   "outputs": [
    {
     "data": {
      "text/plain": [
       "0      133.298801\n",
       "1      133.298801\n",
       "2      133.298801\n",
       "3      133.298801\n",
       "4      133.298801\n",
       "          ...    \n",
       "317    120.762410\n",
       "318    120.762410\n",
       "319    120.762410\n",
       "320    120.762410\n",
       "321    120.762410\n",
       "Length: 322, dtype: float64"
      ]
     },
     "execution_count": 129,
     "metadata": {},
     "output_type": "execute_result"
    }
   ],
   "source": [
    "lm.predict(x)"
   ]
  },
  {
   "cell_type": "code",
   "execution_count": 130,
   "id": "ec3e8687",
   "metadata": {},
   "outputs": [
    {
     "data": {
      "text/html": [
       "<table class=\"simpletable\">\n",
       "<caption>OLS Regression Results</caption>\n",
       "<tr>\n",
       "  <th>Dep. Variable:</th>    <td>Prison population per 100.000</td> <th>  R-squared (uncentered):</th>      <td>   0.507</td>\n",
       "</tr>\n",
       "<tr>\n",
       "  <th>Model:</th>                         <td>OLS</td>              <th>  Adj. R-squared (uncentered):</th> <td>   0.505</td>\n",
       "</tr>\n",
       "<tr>\n",
       "  <th>Method:</th>                   <td>Least Squares</td>         <th>  F-statistic:       </th>          <td>   330.1</td>\n",
       "</tr>\n",
       "<tr>\n",
       "  <th>Date:</th>                   <td>Fri, 01 Apr 2022</td>        <th>  Prob (F-statistic):</th>          <td>3.12e-51</td>\n",
       "</tr>\n",
       "<tr>\n",
       "  <th>Time:</th>                       <td>11:27:52</td>            <th>  Log-Likelihood:    </th>          <td> -2079.8</td>\n",
       "</tr>\n",
       "<tr>\n",
       "  <th>No. Observations:</th>            <td>   322</td>             <th>  AIC:               </th>          <td>   4162.</td>\n",
       "</tr>\n",
       "<tr>\n",
       "  <th>Df Residuals:</th>                <td>   321</td>             <th>  BIC:               </th>          <td>   4165.</td>\n",
       "</tr>\n",
       "<tr>\n",
       "  <th>Df Model:</th>                    <td>     1</td>             <th>                     </th>              <td> </td>   \n",
       "</tr>\n",
       "<tr>\n",
       "  <th>Covariance Type:</th>            <td>nonrobust</td>           <th>                     </th>              <td> </td>   \n",
       "</tr>\n",
       "</table>\n",
       "<table class=\"simpletable\">\n",
       "<tr>\n",
       "           <td></td>              <th>coef</th>     <th>std err</th>      <th>t</th>      <th>P>|t|</th>  <th>[0.025</th>    <th>0.975]</th>  \n",
       "</tr>\n",
       "<tr>\n",
       "  <th>USD_Normalized_MEAN</th> <td>    0.2958</td> <td>    0.016</td> <td>   18.170</td> <td> 0.000</td> <td>    0.264</td> <td>    0.328</td>\n",
       "</tr>\n",
       "</table>\n",
       "<table class=\"simpletable\">\n",
       "<tr>\n",
       "  <th>Omnibus:</th>       <td>171.607</td> <th>  Durbin-Watson:     </th> <td>   0.054</td> \n",
       "</tr>\n",
       "<tr>\n",
       "  <th>Prob(Omnibus):</th> <td> 0.000</td>  <th>  Jarque-Bera (JB):  </th> <td> 684.346</td> \n",
       "</tr>\n",
       "<tr>\n",
       "  <th>Skew:</th>          <td> 2.437</td>  <th>  Prob(JB):          </th> <td>2.49e-149</td>\n",
       "</tr>\n",
       "<tr>\n",
       "  <th>Kurtosis:</th>      <td> 8.221</td>  <th>  Cond. No.          </th> <td>    1.00</td> \n",
       "</tr>\n",
       "</table><br/><br/>Notes:<br/>[1] R² is computed without centering (uncentered) since the model does not contain a constant.<br/>[2] Standard Errors assume that the covariance matrix of the errors is correctly specified."
      ],
      "text/plain": [
       "<class 'statsmodels.iolib.summary.Summary'>\n",
       "\"\"\"\n",
       "                                      OLS Regression Results                                      \n",
       "==================================================================================================\n",
       "Dep. Variable:     Prison population per 100.000   R-squared (uncentered):                   0.507\n",
       "Model:                                       OLS   Adj. R-squared (uncentered):              0.505\n",
       "Method:                            Least Squares   F-statistic:                              330.1\n",
       "Date:                           Fri, 01 Apr 2022   Prob (F-statistic):                    3.12e-51\n",
       "Time:                                   11:27:52   Log-Likelihood:                         -2079.8\n",
       "No. Observations:                            322   AIC:                                      4162.\n",
       "Df Residuals:                                321   BIC:                                      4165.\n",
       "Df Model:                                      1                                                  \n",
       "Covariance Type:                       nonrobust                                                  \n",
       "=======================================================================================\n",
       "                          coef    std err          t      P>|t|      [0.025      0.975]\n",
       "---------------------------------------------------------------------------------------\n",
       "USD_Normalized_MEAN     0.2958      0.016     18.170      0.000       0.264       0.328\n",
       "==============================================================================\n",
       "Omnibus:                      171.607   Durbin-Watson:                   0.054\n",
       "Prob(Omnibus):                  0.000   Jarque-Bera (JB):              684.346\n",
       "Skew:                           2.437   Prob(JB):                    2.49e-149\n",
       "Kurtosis:                       8.221   Cond. No.                         1.00\n",
       "==============================================================================\n",
       "\n",
       "Notes:\n",
       "[1] R² is computed without centering (uncentered) since the model does not contain a constant.\n",
       "[2] Standard Errors assume that the covariance matrix of the errors is correctly specified.\n",
       "\"\"\""
      ]
     },
     "execution_count": 130,
     "metadata": {},
     "output_type": "execute_result"
    }
   ],
   "source": [
    "lm.summary()"
   ]
  },
  {
   "cell_type": "code",
   "execution_count": 134,
   "id": "0b6a1c69",
   "metadata": {},
   "outputs": [
    {
     "data": {
      "image/png": "[encoded data removed]",
      "text/plain": [
       "<Figure size 432x288 with 1 Axes>"
      ]
     },
     "metadata": {
      "needs_background": "light"
     },
     "output_type": "display_data"
    }
   ],
   "source": [
    "# plotting the data points\n",
    "sns.scatterplot(x=df['USD_Normalized_MEAN'], y=y)\n",
    "#plotting the line\n",
    "sns.lineplot(x=df['USD_Normalized_MEAN'],y=lm.predict(x), color='red', label=\"r2 = 0.507\")\n",
    "#axes\n",
    "plt.xlim(380)\n",
    "plt.ylim(0)\n",
    "plt.title(\"R-squared\")\n",
    "# plt.legend(\"r2\", loc=\"lower right\")\n",
    "plt.show()"
   ]
  }
 ],
 "metadata": {
  "kernelspec": {
   "display_name": "Python 3 (ipykernel)",
   "language": "python",
   "name": "python3"
  },
  "language_info": {
   "codemirror_mode": {
    "name": "ipython",
    "version": 3
   },
   "file_extension": ".py",
   "mimetype": "text/x-python",
   "name": "python",
   "nbconvert_exporter": "python",
   "pygments_lexer": "ipython3",
   "version": "3.8.3"
  }
 },
 "nbformat": 4,
 "nbformat_minor": 5
}
