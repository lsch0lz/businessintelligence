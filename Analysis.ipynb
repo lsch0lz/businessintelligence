{
 "cells": [
  {
   "cell_type": "code",
   "execution_count": 2,
   "id": "7669a0b0",
   "metadata": {},
   "outputs": [
    {
     "name": "stdout",
     "output_type": "stream",
     "text": [
      "Requirement already satisfied: statsmodels in c:\\users\\lukas\\anaconda3\\lib\\site-packages (0.12.2)\n",
      "Requirement already satisfied: numpy>=1.15 in c:\\users\\lukas\\appdata\\roaming\\python\\python39\\site-packages (from statsmodels) (1.20.1)\n",
      "Requirement already satisfied: scipy>=1.1 in c:\\users\\lukas\\appdata\\roaming\\python\\python39\\site-packages (from statsmodels) (1.6.3)\n",
      "Requirement already satisfied: pandas>=0.21 in c:\\users\\lukas\\appdata\\roaming\\python\\python39\\site-packages (from statsmodels) (1.2.4)\n",
      "Requirement already satisfied: patsy>=0.5 in c:\\users\\lukas\\anaconda3\\lib\\site-packages (from statsmodels) (0.5.2)\n",
      "Requirement already satisfied: python-dateutil>=2.7.3 in c:\\users\\lukas\\appdata\\roaming\\python\\python39\\site-packages (from pandas>=0.21->statsmodels) (2.8.1)\n",
      "Requirement already satisfied: pytz>=2017.3 in c:\\users\\lukas\\appdata\\roaming\\python\\python39\\site-packages (from pandas>=0.21->statsmodels) (2021.1)\n",
      "Requirement already satisfied: six in c:\\users\\lukas\\appdata\\roaming\\python\\python39\\site-packages (from patsy>=0.5->statsmodels) (1.15.0)\n"
     ]
    }
   ],
   "source": [
    "!pip install statsmodels"
   ]
  },
  {
   "cell_type": "code",
   "execution_count": 1,
   "id": "8423321d",
   "metadata": {},
   "outputs": [],
   "source": [
    "import pandas as pd\n",
    "import numpy as np\n",
    "import matplotlib.pyplot as plt\n",
    "import seaborn as sns\n",
    "from sklearn.linear_model import LinearRegression\n",
    "import statsmodels.api as sm"
   ]
  },
  {
   "cell_type": "code",
   "execution_count": 2,
   "id": "a0313985",
   "metadata": {},
   "outputs": [],
   "source": [
    "df = pd.read_csv('./csv/apple_x_socio.csv')"
   ]
  },
  {
   "cell_type": "code",
   "execution_count": 3,
   "id": "bea9b48c",
   "metadata": {},
   "outputs": [
    {
     "name": "stdout",
     "output_type": "stream",
     "text": [
      "<class 'pandas.core.frame.DataFrame'>\n",
      "RangeIndex: 322 entries, 0 to 321\n",
      "Data columns (total 41 columns):\n",
      " #   Column                                         Non-Null Count  Dtype  \n",
      "---  ------                                         --------------  -----  \n",
      " 0   Unnamed: 0                                     322 non-null    int64  \n",
      " 1   model                                          322 non-null    object \n",
      " 2   country_code                                   322 non-null    object \n",
      " 3   country                                        322 non-null    object \n",
      " 4   region                                         322 non-null    object \n",
      " 5   income group                                   322 non-null    object \n",
      " 6   scraped_date                                   322 non-null    object \n",
      " 7   model_en                                       322 non-null    object \n",
      " 8   price_local_currency                           322 non-null    float64\n",
      " 9   Currency CodeA                                 322 non-null    object \n",
      " 10  X                                              322 non-null    float64\n",
      " 11  USD_Normalized                                 322 non-null    float64\n",
      " 12  USD_Normalized_MEAN                            322 non-null    float64\n",
      " 13  Land                                           322 non-null    object \n",
      " 14  HDI                                            322 non-null    float64\n",
      " 15  Life expactancy at birth in years              322 non-null    float64\n",
      " 16  Mean years of schooling in years               322 non-null    float64\n",
      " 17  Gross national income (GNI) per capita in US$  322 non-null    float64\n",
      " 18  IHDI                                           322 non-null    float64\n",
      " 19  Inequality in life expectancy in%              322 non-null    float64\n",
      " 20  Inequality in education in %                   322 non-null    float64\n",
      " 21  Inequality in income in %                      322 non-null    float64\n",
      " 22  Income Shares of top 1%                        322 non-null    float64\n",
      " 23  Income Shares of top 1%.1                      294 non-null    float64\n",
      " 24  GINI                                           322 non-null    float64\n",
      " 25  Gender Inequality Index                        322 non-null    float64\n",
      " 26  Maternal mortality ratio per 100.000           322 non-null    int64  \n",
      " 27  Share of female seats in parliament in %       322 non-null    float64\n",
      " 28  Employment to population ratio                 322 non-null    float64\n",
      " 29  Employment in agriculture in %                 322 non-null    float64\n",
      " 30  Employment in services in %                    322 non-null    float64\n",
      " 31  Unemployment in %                              322 non-null    float64\n",
      " 32  Child labour in %                              28 non-null     float64\n",
      " 33  Working poor at PPP$3.20 a day in %            70 non-null     float64\n",
      " 34  High-skill to low-skill ratio                  322 non-null    float64\n",
      " 35  Prison population per 100.000                  322 non-null    float64\n",
      " 36  Homocide rate per 100.000                      322 non-null    float64\n",
      " 37  Suicide rate (female) per 100.000              322 non-null    float64\n",
      " 38  Suicide rate (male) per 100.000                322 non-null    float64\n",
      " 39  Internet User in %                             322 non-null    float64\n",
      " 40  Mobile phone subscriptions per 100 people      322 non-null    float64\n",
      "dtypes: float64(30), int64(2), object(9)\n",
      "memory usage: 103.3+ KB\n"
     ]
    }
   ],
   "source": [
    "df.info()"
   ]
  },
  {
   "cell_type": "markdown",
   "id": "0fe8a691",
   "metadata": {},
   "source": [
    "# Lineare Regression"
   ]
  },
  {
   "cell_type": "code",
   "execution_count": 4,
   "id": "a0885d7c",
   "metadata": {},
   "outputs": [],
   "source": [
    "y = df[\"Prison population per 100.000\"]\n",
    "x = df[\"USD_Normalized_MEAN\"]"
   ]
  },
  {
   "cell_type": "code",
   "execution_count": 5,
   "id": "8f6dd028",
   "metadata": {},
   "outputs": [],
   "source": [
    "# x = sm.add_constant(x1)\n",
    "lm = sm.OLS(y,x).fit()"
   ]
  },
  {
   "cell_type": "code",
   "execution_count": 6,
   "id": "f2ecf626",
   "metadata": {},
   "outputs": [
    {
     "data": {
      "text/plain": [
       "0      133.298801\n",
       "1      133.298801\n",
       "2      133.298801\n",
       "3      133.298801\n",
       "4      133.298801\n",
       "          ...    \n",
       "317    120.762410\n",
       "318    120.762410\n",
       "319    120.762410\n",
       "320    120.762410\n",
       "321    120.762410\n",
       "Length: 322, dtype: float64"
      ]
     },
     "execution_count": 6,
     "metadata": {},
     "output_type": "execute_result"
    }
   ],
   "source": [
    "lm.predict(x)"
   ]
  },
  {
   "cell_type": "code",
   "execution_count": 7,
   "id": "ec3e8687",
   "metadata": {},
   "outputs": [
    {
     "data": {
      "text/html": [
       "<table class=\"simpletable\">\n",
       "<caption>OLS Regression Results</caption>\n",
       "<tr>\n",
       "  <th>Dep. Variable:</th>    <td>Prison population per 100.000</td> <th>  R-squared (uncentered):</th>      <td>   0.507</td>\n",
       "</tr>\n",
       "<tr>\n",
       "  <th>Model:</th>                         <td>OLS</td>              <th>  Adj. R-squared (uncentered):</th> <td>   0.505</td>\n",
       "</tr>\n",
       "<tr>\n",
       "  <th>Method:</th>                   <td>Least Squares</td>         <th>  F-statistic:       </th>          <td>   330.1</td>\n",
       "</tr>\n",
       "<tr>\n",
       "  <th>Date:</th>                   <td>Tue, 05 Apr 2022</td>        <th>  Prob (F-statistic):</th>          <td>3.12e-51</td>\n",
       "</tr>\n",
       "<tr>\n",
       "  <th>Time:</th>                       <td>12:39:21</td>            <th>  Log-Likelihood:    </th>          <td> -2079.8</td>\n",
       "</tr>\n",
       "<tr>\n",
       "  <th>No. Observations:</th>            <td>   322</td>             <th>  AIC:               </th>          <td>   4162.</td>\n",
       "</tr>\n",
       "<tr>\n",
       "  <th>Df Residuals:</th>                <td>   321</td>             <th>  BIC:               </th>          <td>   4165.</td>\n",
       "</tr>\n",
       "<tr>\n",
       "  <th>Df Model:</th>                    <td>     1</td>             <th>                     </th>              <td> </td>   \n",
       "</tr>\n",
       "<tr>\n",
       "  <th>Covariance Type:</th>            <td>nonrobust</td>           <th>                     </th>              <td> </td>   \n",
       "</tr>\n",
       "</table>\n",
       "<table class=\"simpletable\">\n",
       "<tr>\n",
       "           <td></td>              <th>coef</th>     <th>std err</th>      <th>t</th>      <th>P>|t|</th>  <th>[0.025</th>    <th>0.975]</th>  \n",
       "</tr>\n",
       "<tr>\n",
       "  <th>USD_Normalized_MEAN</th> <td>    0.2958</td> <td>    0.016</td> <td>   18.170</td> <td> 0.000</td> <td>    0.264</td> <td>    0.328</td>\n",
       "</tr>\n",
       "</table>\n",
       "<table class=\"simpletable\">\n",
       "<tr>\n",
       "  <th>Omnibus:</th>       <td>171.607</td> <th>  Durbin-Watson:     </th> <td>   0.054</td> \n",
       "</tr>\n",
       "<tr>\n",
       "  <th>Prob(Omnibus):</th> <td> 0.000</td>  <th>  Jarque-Bera (JB):  </th> <td> 684.346</td> \n",
       "</tr>\n",
       "<tr>\n",
       "  <th>Skew:</th>          <td> 2.437</td>  <th>  Prob(JB):          </th> <td>2.49e-149</td>\n",
       "</tr>\n",
       "<tr>\n",
       "  <th>Kurtosis:</th>      <td> 8.221</td>  <th>  Cond. No.          </th> <td>    1.00</td> \n",
       "</tr>\n",
       "</table><br/><br/>Notes:<br/>[1] R² is computed without centering (uncentered) since the model does not contain a constant.<br/>[2] Standard Errors assume that the covariance matrix of the errors is correctly specified."
      ],
      "text/plain": [
       "<class 'statsmodels.iolib.summary.Summary'>\n",
       "\"\"\"\n",
       "                                      OLS Regression Results                                      \n",
       "==================================================================================================\n",
       "Dep. Variable:     Prison population per 100.000   R-squared (uncentered):                   0.507\n",
       "Model:                                       OLS   Adj. R-squared (uncentered):              0.505\n",
       "Method:                            Least Squares   F-statistic:                              330.1\n",
       "Date:                           Tue, 05 Apr 2022   Prob (F-statistic):                    3.12e-51\n",
       "Time:                                   12:39:21   Log-Likelihood:                         -2079.8\n",
       "No. Observations:                            322   AIC:                                      4162.\n",
       "Df Residuals:                                321   BIC:                                      4165.\n",
       "Df Model:                                      1                                                  \n",
       "Covariance Type:                       nonrobust                                                  \n",
       "=======================================================================================\n",
       "                          coef    std err          t      P>|t|      [0.025      0.975]\n",
       "---------------------------------------------------------------------------------------\n",
       "USD_Normalized_MEAN     0.2958      0.016     18.170      0.000       0.264       0.328\n",
       "==============================================================================\n",
       "Omnibus:                      171.607   Durbin-Watson:                   0.054\n",
       "Prob(Omnibus):                  0.000   Jarque-Bera (JB):              684.346\n",
       "Skew:                           2.437   Prob(JB):                    2.49e-149\n",
       "Kurtosis:                       8.221   Cond. No.                         1.00\n",
       "==============================================================================\n",
       "\n",
       "Notes:\n",
       "[1] R² is computed without centering (uncentered) since the model does not contain a constant.\n",
       "[2] Standard Errors assume that the covariance matrix of the errors is correctly specified.\n",
       "\"\"\""
      ]
     },
     "execution_count": 7,
     "metadata": {},
     "output_type": "execute_result"
    }
   ],
   "source": [
    "lm.summary()"
   ]
  },
  {
   "cell_type": "code",
   "execution_count": 8,
   "id": "0b6a1c69",
   "metadata": {
    "scrolled": false
   },
   "outputs": [
    {
     "data": {
      "image/png": "[encoded data removed]",
      "text/plain": [
       "<Figure size 432x288 with 1 Axes>"
      ]
     },
     "metadata": {
      "needs_background": "light"
     },
     "output_type": "display_data"
    }
   ],
   "source": [
    "# plotting the data points\n",
    "sns.scatterplot(x=df['USD_Normalized_MEAN'], y=y)\n",
    "#plotting the line\n",
    "sns.lineplot(x=df['USD_Normalized_MEAN'],y=lm.predict(x), color='red', label=\"r2 = 0.507\")\n",
    "#axes\n",
    "plt.xlim(380)\n",
    "plt.ylim(0)\n",
    "plt.title(\"R-squared\")\n",
    "# plt.legend(\"r2\", loc=\"lower right\")\n",
    "plt.show()"
   ]
  },
  {
   "cell_type": "markdown",
   "id": "bc1605d5",
   "metadata": {},
   "source": [
    "# Logistische Regression"
   ]
  },
  {
   "cell_type": "code",
   "execution_count": 13,
   "id": "b4ccbb63",
   "metadata": {},
   "outputs": [],
   "source": [
    "from sklearn.linear_model import LogisticRegression\n",
    "from sklearn.metrics import accuracy_score\n",
    "from sklearn.model_selection import train_test_split"
   ]
  },
  {
   "cell_type": "code",
   "execution_count": 68,
   "id": "82c2f314",
   "metadata": {},
   "outputs": [
    {
     "name": "stdout",
     "output_type": "stream",
     "text": [
      "Genauigkeit: 0.358025\n"
     ]
    }
   ],
   "source": [
    "df['USD_Normalized_MEAN'] = df['USD_Normalized_MEAN'].astype(int)\n",
    "df['GINI'] = df['GINI'].astype(int)\n",
    "\n",
    "X = df[\"USD_Normalized_MEAN\"].to_numpy().reshape(-1, 1)\n",
    "y = df[\"GINI\"].to_numpy()\n",
    "\n",
    "train_x, test_x, train_y, test_y = train_test_split(X, y)\n",
    "\n",
    "clf = LogisticRegression(max_iter=300)\n",
    "clf.fit(train_x, train_y)\n",
    "# Klassifikationsgüte berechnen\n",
    "print(\"Genauigkeit: %f\" % accuracy_score(test_y, clf.predict(test_x)))"
   ]
  },
  {
   "cell_type": "markdown",
   "id": "78d6743d",
   "metadata": {},
   "source": [
    "# AdaBoostRegressor"
   ]
  },
  {
   "cell_type": "code",
   "execution_count": 69,
   "id": "17dee3ac",
   "metadata": {
    "scrolled": true
   },
   "outputs": [
    {
     "name": "stdout",
     "output_type": "stream",
     "text": [
      "Learning Rate: 1.0 MAE: 2.4446476893188485\n",
      "Learning Rate: 0.5 MAE: 2.3028891923157158\n",
      "Learning Rate: 0.1 MAE: 2.1694469418799436\n",
      "Learning Rate: 0.01 MAE: 2.2257617916680448\n",
      "Learning Rate: 0.001 MAE: 2.2334622297904554\n"
     ]
    }
   ],
   "source": [
    "from sklearn.ensemble import AdaBoostRegressor\n",
    "from sklearn.metrics import mean_absolute_error\n",
    "\n",
    "for rate in [1.0, 0.5, 0.1, 0.01, 0.001]:\n",
    "    adaboostregressor = AdaBoostRegressor(random_state=1, learning_rate=rate)\n",
    "    adaboostregressor.fit(train_x, train_y)\n",
    "    pred = adaboostregressor.predict(test_x)\n",
    "    print(f\"Learning Rate: {rate}\",\"MAE:\", mean_absolute_error(test_y, pred))"
   ]
  },
  {
   "cell_type": "markdown",
   "id": "ee2a1179",
   "metadata": {},
   "source": [
    "# BaggingRegressor"
   ]
  },
  {
   "cell_type": "code",
   "execution_count": 71,
   "id": "f0202a5b",
   "metadata": {},
   "outputs": [
    {
     "name": "stdout",
     "output_type": "stream",
     "text": [
      "MAE: 0.5927921154138606\n"
     ]
    }
   ],
   "source": [
    "from sklearn.ensemble import BaggingRegressor\n",
    "from sklearn.metrics import mean_absolute_error\n",
    "\n",
    "\n",
    "BaggingRegressor = BaggingRegressor(random_state=1)\n",
    "BaggingRegressor.fit(train_x, train_y)\n",
    "pred = BaggingRegressor.predict(test_x)\n",
    "print(\"MAE:\", mean_absolute_error(test_y, pred))"
   ]
  },
  {
   "cell_type": "markdown",
   "id": "7c6cfebd",
   "metadata": {},
   "source": [
    "# DecisionTree"
   ]
  },
  {
   "cell_type": "code",
   "execution_count": 72,
   "id": "9c06890c",
   "metadata": {},
   "outputs": [],
   "source": [
    "from sklearn.tree import DecisionTreeRegressor"
   ]
  },
  {
   "cell_type": "code",
   "execution_count": 73,
   "id": "978496ad",
   "metadata": {},
   "outputs": [
    {
     "name": "stdout",
     "output_type": "stream",
     "text": [
      "MAE:  0.5898883009994121\n"
     ]
    }
   ],
   "source": [
    "model = DecisionTreeRegressor()\n",
    "model.fit(train_x, train_y)\n",
    "\n",
    "predictions = model.predict(test_x)\n",
    "\n",
    "print(\"MAE: \", mean_absolute_error(test_y, predictions))"
   ]
  },
  {
   "cell_type": "markdown",
   "id": "da3d82fe",
   "metadata": {},
   "source": [
    "# Korrelation"
   ]
  },
  {
   "cell_type": "code",
   "execution_count": 17,
   "id": "15f9a8cd",
   "metadata": {
    "scrolled": true
   },
   "outputs": [
    {
     "name": "stdout",
     "output_type": "stream",
     "text": [
      "<class 'pandas.core.frame.DataFrame'>\n",
      "RangeIndex: 322 entries, 0 to 321\n",
      "Data columns (total 41 columns):\n",
      " #   Column                                         Non-Null Count  Dtype  \n",
      "---  ------                                         --------------  -----  \n",
      " 0   Unnamed: 0                                     322 non-null    int64  \n",
      " 1   model                                          322 non-null    object \n",
      " 2   country_code                                   322 non-null    object \n",
      " 3   country                                        322 non-null    object \n",
      " 4   region                                         322 non-null    object \n",
      " 5   income group                                   322 non-null    object \n",
      " 6   scraped_date                                   322 non-null    object \n",
      " 7   model_en                                       322 non-null    object \n",
      " 8   price_local_currency                           322 non-null    float64\n",
      " 9   Currency CodeA                                 322 non-null    object \n",
      " 10  X                                              322 non-null    float64\n",
      " 11  USD_Normalized                                 322 non-null    float64\n",
      " 12  USD_Normalized_MEAN                            322 non-null    int32  \n",
      " 13  Land                                           322 non-null    object \n",
      " 14  HDI                                            322 non-null    float64\n",
      " 15  Life expactancy at birth in years              322 non-null    float64\n",
      " 16  Mean years of schooling in years               322 non-null    float64\n",
      " 17  Gross national income (GNI) per capita in US$  322 non-null    float64\n",
      " 18  IHDI                                           322 non-null    float64\n",
      " 19  Inequality in life expectancy in%              322 non-null    float64\n",
      " 20  Inequality in education in %                   322 non-null    float64\n",
      " 21  Inequality in income in %                      322 non-null    float64\n",
      " 22  Income Shares of top 1%                        322 non-null    float64\n",
      " 23  Income Shares of top 1%.1                      294 non-null    float64\n",
      " 24  GINI                                           322 non-null    int32  \n",
      " 25  Gender Inequality Index                        322 non-null    float64\n",
      " 26  Maternal mortality ratio per 100.000           322 non-null    int64  \n",
      " 27  Share of female seats in parliament in %       322 non-null    float64\n",
      " 28  Employment to population ratio                 322 non-null    float64\n",
      " 29  Employment in agriculture in %                 322 non-null    float64\n",
      " 30  Employment in services in %                    322 non-null    float64\n",
      " 31  Unemployment in %                              322 non-null    float64\n",
      " 32  Child labour in %                              28 non-null     float64\n",
      " 33  Working poor at PPP$3.20 a day in %            70 non-null     float64\n",
      " 34  High-skill to low-skill ratio                  322 non-null    float64\n",
      " 35  Prison population per 100.000                  322 non-null    float64\n",
      " 36  Homocide rate per 100.000                      322 non-null    float64\n",
      " 37  Suicide rate (female) per 100.000              322 non-null    float64\n",
      " 38  Suicide rate (male) per 100.000                322 non-null    float64\n",
      " 39  Internet User in %                             322 non-null    float64\n",
      " 40  Mobile phone subscriptions per 100 people      322 non-null    float64\n",
      "dtypes: float64(28), int32(2), int64(2), object(9)\n",
      "memory usage: 100.8+ KB\n"
     ]
    }
   ],
   "source": [
    "df.info()"
   ]
  },
  {
   "cell_type": "markdown",
   "id": "f254408c",
   "metadata": {},
   "source": [
    "## Highest Correlations"
   ]
  },
  {
   "cell_type": "code",
   "execution_count": 18,
   "id": "0b53ba26",
   "metadata": {},
   "outputs": [
    {
     "data": {
      "text/plain": [
       "0.5565284041103994"
      ]
     },
     "execution_count": 18,
     "metadata": {},
     "output_type": "execute_result"
    }
   ],
   "source": [
    "df[\"USD_Normalized_MEAN\"].corr(df[\"Homocide rate per 100.000\"])"
   ]
  },
  {
   "cell_type": "code",
   "execution_count": 19,
   "id": "bbdf1906",
   "metadata": {},
   "outputs": [
    {
     "data": {
      "text/plain": [
       "0.3954276971054509"
      ]
     },
     "execution_count": 19,
     "metadata": {},
     "output_type": "execute_result"
    }
   ],
   "source": [
    "df[\"USD_Normalized_MEAN\"].corr(df[\"GINI\"])"
   ]
  },
  {
   "cell_type": "code",
   "execution_count": 20,
   "id": "32fc6292",
   "metadata": {},
   "outputs": [
    {
     "data": {
      "text/plain": [
       "0.4638561934088292"
      ]
     },
     "execution_count": 20,
     "metadata": {},
     "output_type": "execute_result"
    }
   ],
   "source": [
    "df[\"USD_Normalized_MEAN\"].corr(df[\"Income Shares of top 1%\"])"
   ]
  },
  {
   "cell_type": "code",
   "execution_count": 21,
   "id": "d9610732",
   "metadata": {
    "scrolled": true
   },
   "outputs": [
    {
     "data": {
      "text/plain": [
       "0.3952797882164825"
      ]
     },
     "execution_count": 21,
     "metadata": {},
     "output_type": "execute_result"
    }
   ],
   "source": [
    "df[\"USD_Normalized_MEAN\"].corr(df[\"Inequality in income in %\"])"
   ]
  },
  {
   "cell_type": "markdown",
   "id": "40bd347e",
   "metadata": {},
   "source": [
    "## Lowest Correlation"
   ]
  },
  {
   "cell_type": "code",
   "execution_count": 22,
   "id": "ab0c5a00",
   "metadata": {},
   "outputs": [
    {
     "data": {
      "text/plain": [
       "-0.08689813969842011"
      ]
     },
     "execution_count": 22,
     "metadata": {},
     "output_type": "execute_result"
    }
   ],
   "source": [
    "df[\"USD_Normalized_MEAN\"].corr(df[\"Prison population per 100.000\"])"
   ]
  },
  {
   "cell_type": "markdown",
   "id": "97d936a5",
   "metadata": {},
   "source": [
    "# Korrelationsmatrix"
   ]
  },
  {
   "cell_type": "code",
   "execution_count": null,
   "id": "095ff8ec",
   "metadata": {},
   "outputs": [],
   "source": []
  }
 ],
 "metadata": {
  "kernelspec": {
   "display_name": "Python 3 (ipykernel)",
   "language": "python",
   "name": "python3"
  },
  "language_info": {
   "codemirror_mode": {
    "name": "ipython",
    "version": 3
   },
   "file_extension": ".py",
   "mimetype": "text/x-python",
   "name": "python",
   "nbconvert_exporter": "python",
   "pygments_lexer": "ipython3",
   "version": "3.8.3"
  }
 },
 "nbformat": 4,
 "nbformat_minor": 5
}
