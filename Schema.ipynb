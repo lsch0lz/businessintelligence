{
 "cells": [
  {
   "cell_type": "code",
   "execution_count": 3,
   "id": "6c8e66a7",
   "metadata": {},
   "outputs": [],
   "source": [
    "from hilfsfunktionen import *\n",
    "import pandas as pd\n",
    "from IPython.display import display_html\n",
    "\n",
    "\n",
    "from sqlalchemy import create_engine\n",
    "import mysql.connector\n",
    "from mysql.connector import errorcode"
   ]
  },
  {
   "cell_type": "code",
   "execution_count": null,
   "id": "afc7525b",
   "metadata": {},
   "outputs": [],
   "source": [
    "df_social = pd.read_csv(\"./csv/socio_merged.csv\")"
   ]
  },
  {
   "cell_type": "code",
   "execution_count": 6,
   "id": "81900ad1",
   "metadata": {
    "scrolled": true
   },
   "outputs": [
    {
     "name": "stdout",
     "output_type": "stream",
     "text": [
      "MySQL Database connection successful\n",
      "Database created successfully\n",
      "Database created successfully\n"
     ]
    }
   ],
   "source": [
    "mysql_usr = \"\" # mit eurem Nutzer ersetzen\n",
    "mysql_pw = \"\" # mit eurem Passwort ersetzen\n",
    "\n",
    "# Stellt sicher, dass der lokale MySQL Server gestartet wurde\n",
    "\n",
    "connection = create_server_connection(\"localhost\", mysql_usr, mysql_pw)\n",
    "\n",
    "# Die Datenbank, in die wir den SQL Abzug vom Unternehmen PC-Power Markt einpflegen nennen wir \"OLTP_DB\"\n",
    "\n",
    "# Falls bereits eine Datenbank namens \"OLTP_DB\" existiert, wird sie mit diesem Befehl gelöscht:\n",
    "create_database_query = \"DROP DATABASE IF EXISTS BI_Projekt;\"\n",
    "create_database(connection, create_database_query)\n",
    "\n",
    "# Erstellen der Datenbank \"OLTP_DB\"\n",
    "create_database_query = \"CREATE DATABASE BI_Projekt;\"\n",
    "create_database(connection, create_database_query)\n",
    "\n",
    "\n",
    "db_connection_str = 'mysql+pymysql://' + mysql_usr + ':' + mysql_pw + '@localhost/BI_Projekt'\n",
    "db_connection = create_engine(db_connection_str)\n",
    "\n"
   ]
  },
  {
   "cell_type": "markdown",
   "id": "2cdbf12a",
   "metadata": {},
   "source": [
    "# Create Socialdata Database"
   ]
  },
  {
   "cell_type": "code",
   "execution_count": 15,
   "id": "9b243cdb",
   "metadata": {},
   "outputs": [
    {
     "name": "stdout",
     "output_type": "stream",
     "text": [
      "MySQL Database connection successful\n",
      "Query successful\n"
     ]
    }
   ],
   "source": [
    "query = \"CREATE TABLE IF NOT EXISTS Socialdata (Land varchar(255), HDI float, `Life expactancy at birth in years` float, `Mean years of schooling in years` float, `Gross national income (GNI) per capita in US$` float, IHDI float, `Inequality in life expectancy in%` float, `Inequality in education in %` float, `Inequality in income in %` float, `Income Shares of top 1%` float, GINI float, `Gender Inequality Index` float, `Maternal mortality ratio per 100.000` float, `Share of female seats in parliament in %` float, `Employment to population ratio` float, `Employment in agriculture in %` float, `Employment in services in %` float, `Unemployment in %` float, `Child labour in %` float, `Working poor at PPP$3.20 a day in %` float, `High-skill to low-skill ratio` float, `Prison population per 100.000` float, `Homocide rate per 100.000` float, `Suicide rate (female) per 100.000` float, `Suicide rate (male) per 100.000` float, `Internet User in %` float, `Mobile phone subscriptions per 100 people` float, PRIMARY KEY (Land))\"\n",
    "connection = create_db_connection(\"localhost\", mysql_usr, mysql_pw, \"BI_Projekt\")\n",
    "execute_query(connection, query)"
   ]
  },
  {
   "cell_type": "markdown",
   "id": "1d9d34d8",
   "metadata": {},
   "source": [
    "# Create Apple-Price Database"
   ]
  },
  {
   "cell_type": "code",
   "execution_count": 18,
   "id": "1db92869",
   "metadata": {},
   "outputs": [
    {
     "name": "stdout",
     "output_type": "stream",
     "text": [
      "MySQL Database connection successful\n",
      "Query successful\n"
     ]
    }
   ],
   "source": [
    "query = \"CREATE TABLE IF NOT EXISTS Apple_Price_List (pid int, model varchar(255), price float, country_code varchar(255), country varchar(255), region varchar(255), `income group` varchar(255), scraped_date date, model_en varchar(255), price2 float, price_local_currency float, `Currency CodeA` varchar(255), X float, USD_Normalized float, USD_Normalized_MEAN float, PRIMARY KEY (country) )\"\n",
    "connection = create_db_connection(\"localhost\", mysql_usr, mysql_pw, \"BI_Projekt\")\n",
    "execute_query(connection, query)"
   ]
  },
  {
   "cell_type": "markdown",
   "id": "8aba053c",
   "metadata": {},
   "source": [
    "# Create Exchange-Rate Database"
   ]
  },
  {
   "cell_type": "code",
   "execution_count": 27,
   "id": "ace1f22d",
   "metadata": {},
   "outputs": [
    {
     "name": "stdout",
     "output_type": "stream",
     "text": [
      "MySQL Database connection successful\n",
      "Query successful\n"
     ]
    }
   ],
   "source": [
    "query = \"CREATE TABLE IF NOT EXISTS Exchange_Rate (Date date, `Currency CodeA` varchar(255), X float, PRIMARY KEY (`Currency CodeA`))\"\n",
    "connection = create_db_connection(\"localhost\", mysql_usr, mysql_pw, \"BI_Projekt\")\n",
    "execute_query(connection, query)"
   ]
  },
  {
   "cell_type": "markdown",
   "id": "45e9b187",
   "metadata": {},
   "source": [
    "# Create CountryCode Database"
   ]
  },
  {
   "cell_type": "code",
   "execution_count": 22,
   "id": "d5e35352",
   "metadata": {},
   "outputs": [
    {
     "name": "stdout",
     "output_type": "stream",
     "text": [
      "MySQL Database connection successful\n",
      "Query successful\n"
     ]
    }
   ],
   "source": [
    "query = \"CREATE TABLE IF NOT EXISTS Country_Code (`Currency Name` varchar(255), `Country Name` varchar(255), `Alpha2 Code` varchar(255), `Currency CodeA` varchar(255), `Currency CodeN` varchar(255), `Minor Unit` varchar(255), PRIMARY KEY (`Alpha2 Code`))\"\n",
    "connection = create_db_connection(\"localhost\", mysql_usr, mysql_pw, \"BI_Projekt\")\n",
    "execute_query(connection, query)"
   ]
  }
 ],
 "metadata": {
  "kernelspec": {
   "display_name": "Python 3 (ipykernel)",
   "language": "python",
   "name": "python3"
  },
  "language_info": {
   "codemirror_mode": {
    "name": "ipython",
    "version": 3
   },
   "file_extension": ".py",
   "mimetype": "text/x-python",
   "name": "python",
   "nbconvert_exporter": "python",
   "pygments_lexer": "ipython3",
   "version": "3.8.3"
  }
 },
 "nbformat": 4,
 "nbformat_minor": 5
}
